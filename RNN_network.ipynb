{
 "cells": [
  {
   "cell_type": "code",
   "execution_count": 1,
   "id": "internal-services",
   "metadata": {
    "pycharm": {
     "is_executing": false
    }
   },
   "outputs": [],
   "source": [
    "import torch"
   ]
  },
  {
   "cell_type": "code",
   "execution_count": 24,
   "id": "agricultural-entrepreneur",
   "metadata": {
    "pycharm": {
     "is_executing": false
    }
   },
   "outputs": [],
   "source": [
    "batch_size = 1\n",
    "# 一个句子由多个词组成，这个句子有多长\n",
    "seq_len = 4\n",
    "# 每个单词转成向量有多少维度的特征值\n",
    "input_size = 7\n",
    "hidden_size = 2"
   ]
  },
  {
   "cell_type": "code",
   "execution_count": 28,
   "id": "still-windsor",
   "metadata": {
    "pycharm": {
     "is_executing": false
    }
   },
   "outputs": [
    {
     "name": "stdout",
     "text": [
      "tensor([[[-5.4768e-01, -1.4844e-01, -4.2723e-01, -4.7524e-01, -1.3424e-01,\n          -1.0599e-01, -1.6275e-04],\n         [ 5.3523e-01, -3.7972e-01, -1.0529e+00,  9.4737e-01,  4.1260e-01,\n           4.8436e-01,  1.4154e+00],\n         [ 2.8794e-01,  1.7778e+00,  1.0265e+00, -2.9763e-01,  3.6110e-01,\n          -1.4797e+00,  6.0531e-02],\n         [ 4.9569e-02,  1.3606e+00, -2.8700e-02,  1.6045e+00,  1.1292e+00,\n          -8.7423e-01,  7.3359e-01]]])\ntensor([[[0., 0.]]])\n"
     ],
     "output_type": "stream"
    }
   ],
   "source": [
    "data = torch.randn(batch_size,seq_len,input_size)\n",
    "hidden = torch.zeros(1,batch_size,hidden_size)\n",
    "print(data)\n",
    "print(hidden)"
   ]
  },
  {
   "cell_type": "code",
   "execution_count": null,
   "outputs": [],
   "source": [
    "# 主要是计算好 输入 data 的数据大小 和 hidden的数据大小，其参数不需要考虑，pytorch会自动算。\n",
    "# 使用RNNCELL\n",
    "rnn_cell = torch.nn.RNNCell(input_size=input_size , hidden_size= hidden_size)"
   ],
   "metadata": {
    "collapsed": false,
    "pycharm": {
     "name": "#%%\n"
    }
   }
  },
  {
   "cell_type": "code",
   "execution_count": 29,
   "outputs": [
    {
     "name": "stdout",
     "text": [
      "tensor([[[-0.2305, -0.8148],\n         [-0.3367, -0.9558],\n         [ 0.8655, -0.8519],\n         [ 0.1813,  0.4746]]], grad_fn=<TransposeBackward1>)\ntensor([[[0.1813, 0.4746]]], grad_fn=<StackBackward>)\n"
     ],
     "output_type": "stream"
    }
   ],
   "source": [
    "# 这个RNN由两个全连接层组成，对应的两个hidden_state的维度是2，输入向量维度是1\n",
    "n_layers = 1\n",
    "rnn = torch.nn.RNN(input_size, hidden_size, n_layers, batch_first=True)\n",
    "output,hn = rnn(data,hidden)\n",
    "print(output)\n",
    "print(hn)"
   ],
   "metadata": {
    "collapsed": false,
    "pycharm": {
     "name": "#%%\n",
     "is_executing": false
    }
   }
  },
  {
   "cell_type": "code",
   "execution_count": 27,
   "id": "becoming-logan",
   "metadata": {},
   "outputs": [
    {
     "name": "stdout",
     "output_type": "stream",
     "text": [
      "input_size: torch.Size([1, 6])\n",
      "hidden_size: torch.Size([1, 2])\n",
      "tensor([[-0.1442, -0.6908]], grad_fn=<TanhBackward>)\n",
      "input_size: torch.Size([1, 6])\n",
      "hidden_size: torch.Size([1, 2])\n",
      "tensor([[0.8520, 0.9372]], grad_fn=<TanhBackward>)\n",
      "input_size: torch.Size([1, 6])\n",
      "hidden_size: torch.Size([1, 2])\n",
      "tensor([[-0.2674,  0.5985]], grad_fn=<TanhBackward>)\n"
     ]
    }
   ],
   "source": [
    "for i , v in enumerate(data):\n",
    "    print(\"input_size:\",v.shape)\n",
    "    h = rnn_cell(v,hidden)\n",
    "    print(\"hidden_size:\",h.shape)\n",
    "    print(h)"
   ]
  },
  {
   "cell_type": "code",
   "execution_count": null,
   "id": "medieval-transition",
   "metadata": {},
   "outputs": [],
   "source": [
    "#rnn 有两个 w, 一个是 w_ih  另一个是 w_hh"
   ]
  },
  {
   "cell_type": "code",
   "execution_count": null,
   "id": "bulgarian-stone",
   "metadata": {},
   "outputs": [],
   "source": []
  },
  {
   "cell_type": "code",
   "execution_count": null,
   "id": "resident-bones",
   "metadata": {},
   "outputs": [],
   "source": []
  },
  {
   "cell_type": "code",
   "execution_count": null,
   "id": "british-limit",
   "metadata": {},
   "outputs": [],
   "source": []
  }
 ],
 "metadata": {
  "kernelspec": {
   "display_name": "Python 3",
   "language": "python",
   "name": "python3"
  },
  "language_info": {
   "codemirror_mode": {
    "name": "ipython",
    "version": 3
   },
   "file_extension": ".py",
   "mimetype": "text/x-python",
   "name": "python",
   "nbconvert_exporter": "python",
   "pygments_lexer": "ipython3",
   "version": "3.6.6"
  },
  "pycharm": {
   "stem_cell": {
    "cell_type": "raw",
    "source": [],
    "metadata": {
     "collapsed": false
    }
   }
  }
 },
 "nbformat": 4,
 "nbformat_minor": 5
}