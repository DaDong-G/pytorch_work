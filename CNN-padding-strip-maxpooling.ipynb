{
 "cells": [
  {
   "cell_type": "code",
   "execution_count": 1,
   "id": "65ac0715",
   "metadata": {},
   "outputs": [],
   "source": [
    "# pading 是对input_data \n",
    "import torch"
   ]
  },
  {
   "cell_type": "code",
   "execution_count": 3,
   "id": "9d62cf89",
   "metadata": {},
   "outputs": [],
   "source": [
    "input_data = [1,2,3,4,5,\n",
    "              2,4,1,2,3,\n",
    "              4,1,2,3,5,\n",
    "              6,7,1,2,4,\n",
    "              9,2,8,5,6]"
   ]
  },
  {
   "cell_type": "code",
   "execution_count": 8,
   "id": "b21aa651",
   "metadata": {},
   "outputs": [],
   "source": [
    "input_data = torch.Tensor(input_data).view(1,1,5,5)\n",
    "conv_layer = torch.nn.Conv2d(1,1,kernel_size=(3,3),padding=1,bias=False)\n",
    "kernel_data = torch.Tensor([1,2,3,4,5,6,7,8,9]).view(1,1,3,3)\n",
    "conv_layer.weight.data = kernel_data"
   ]
  },
  {
   "cell_type": "code",
   "execution_count": 10,
   "id": "02391aab",
   "metadata": {},
   "outputs": [
    {
     "data": {
      "text/plain": [
       "tensor([[[[ 69.,  87., 101., 112.,  79.],\n",
       "          [ 83., 102., 103., 141.,  98.],\n",
       "          [153., 153., 119., 126.,  91.],\n",
       "          [173., 228., 182., 211., 124.],\n",
       "          [ 90., 117.,  93., 110.,  60.]]]],\n",
       "       grad_fn=<MkldnnConvolutionBackward>)"
      ]
     },
     "execution_count": 10,
     "metadata": {},
     "output_type": "execute_result"
    }
   ],
   "source": [
    "output = conv_layer(input_data)\n",
    "output"
   ]
  },
  {
   "cell_type": "code",
   "execution_count": 11,
   "id": "3600c242",
   "metadata": {},
   "outputs": [],
   "source": [
    "# strip 增加步长\n",
    "input_data = torch.Tensor(input_data).view(1,1,5,5)\n",
    "conv_layer = torch.nn.Conv2d(1,1,kernel_size=(3,3),stride=2,bias=False)\n",
    "kernel_data = torch.Tensor([1,2,3,4,5,6,7,8,9]).view(1,1,3,3)\n",
    "conv_layer.weight.data = kernel_data"
   ]
  },
  {
   "cell_type": "code",
   "execution_count": 13,
   "id": "7f1ee193",
   "metadata": {},
   "outputs": [
    {
     "data": {
      "text/plain": [
       "tensor([[[[102., 141.],\n",
       "          [228., 211.]]]], grad_fn=<MkldnnConvolutionBackward>)"
      ]
     },
     "execution_count": 13,
     "metadata": {},
     "output_type": "execute_result"
    }
   ],
   "source": [
    "output = conv_layer(input_data)\n",
    "output"
   ]
  },
  {
   "cell_type": "code",
   "execution_count": 14,
   "id": "aef13240",
   "metadata": {},
   "outputs": [],
   "source": [
    "# maxpolling\n",
    "input_data = [3,3,1,4,\n",
    "              2,8,6,2,\n",
    "              2,4,9,3,\n",
    "              5,4,2,1]"
   ]
  },
  {
   "cell_type": "code",
   "execution_count": 16,
   "id": "84d7563e",
   "metadata": {},
   "outputs": [
    {
     "data": {
      "text/plain": [
       "tensor([[[[8., 6.],\n",
       "          [5., 9.]]]])"
      ]
     },
     "execution_count": 16,
     "metadata": {},
     "output_type": "execute_result"
    }
   ],
   "source": [
    "# maxpooling 将图像分割成几部分，每个点取其中最大的。\n",
    "input_data = torch.Tensor(input_data).view(1,1,4,4)\n",
    "conv_layer = torch.nn.MaxPool2d(kernel_size=(2,2))\n",
    "output = conv_layer(input_data)\n",
    "output"
   ]
  }
 ],
 "metadata": {
  "kernelspec": {
   "display_name": "Python 3 (ipykernel)",
   "language": "python",
   "name": "python3"
  },
  "language_info": {
   "codemirror_mode": {
    "name": "ipython",
    "version": 3
   },
   "file_extension": ".py",
   "mimetype": "text/x-python",
   "name": "python",
   "nbconvert_exporter": "python",
   "pygments_lexer": "ipython3",
   "version": "3.8.3"
  }
 },
 "nbformat": 4,
 "nbformat_minor": 5
}
