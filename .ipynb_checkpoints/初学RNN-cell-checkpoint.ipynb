{
 "cells": [
  {
   "cell_type": "code",
   "execution_count": 2,
   "id": "internal-services",
   "metadata": {},
   "outputs": [],
   "source": [
    "import torch"
   ]
  },
  {
   "cell_type": "code",
   "execution_count": 15,
   "id": "agricultural-entrepreneur",
   "metadata": {},
   "outputs": [],
   "source": [
    "batch_size = 1\n",
    "seq_len = 3\n",
    "input_size = 6\n",
    "hidden_size = 2"
   ]
  },
  {
   "cell_type": "code",
   "execution_count": 28,
   "id": "still-windsor",
   "metadata": {},
   "outputs": [
    {
     "data": {
      "text/plain": [
       "tensor([[[ 0.3097,  0.0361,  0.9337, -0.3325, -1.1094, -0.4357]],\n",
       "\n",
       "        [[ 0.4168, -1.6464,  0.7457,  0.4940, -2.0401, -1.3703]],\n",
       "\n",
       "        [[ 0.5571, -1.1191,  2.1128, -0.0872,  0.8190,  0.4667]]])"
      ]
     },
     "execution_count": 28,
     "metadata": {},
     "output_type": "execute_result"
    }
   ],
   "source": [
    "data = torch.randn(seq_len,batch_size,input_size)\n",
    "hidden = torch.zeros(batch_size,hidden_size)\n",
    "data"
   ]
  },
  {
   "cell_type": "code",
   "execution_count": 17,
   "id": "painted-journey",
   "metadata": {},
   "outputs": [],
   "source": [
    "# 主要是计算好 输入 data 的数据大小 和 hidden的数据大小，其参数不需要考虑，pytorch会自动算。\n",
    "# 使用RNNCELL\n",
    "cell = torch.nn.RNNCell(input_size=input_size , hidden_size= hidden_size)"
   ]
  },
  {
   "cell_type": "code",
   "execution_count": 27,
   "id": "becoming-logan",
   "metadata": {},
   "outputs": [
    {
     "name": "stdout",
     "output_type": "stream",
     "text": [
      "input_size: torch.Size([1, 6])\n",
      "hidden_size: torch.Size([1, 2])\n",
      "tensor([[-0.1442, -0.6908]], grad_fn=<TanhBackward>)\n",
      "input_size: torch.Size([1, 6])\n",
      "hidden_size: torch.Size([1, 2])\n",
      "tensor([[0.8520, 0.9372]], grad_fn=<TanhBackward>)\n",
      "input_size: torch.Size([1, 6])\n",
      "hidden_size: torch.Size([1, 2])\n",
      "tensor([[-0.2674,  0.5985]], grad_fn=<TanhBackward>)\n"
     ]
    }
   ],
   "source": [
    "for i , v in enumerate(data):\n",
    "    print(\"input_size:\",v.shape)\n",
    "    h = cell(v,hidden)\n",
    "    print(\"hidden_size:\",h.shape)\n",
    "    print(h)"
   ]
  },
  {
   "cell_type": "code",
   "execution_count": null,
   "id": "medieval-transition",
   "metadata": {},
   "outputs": [],
   "source": [
    "#rnn 有两个 w, 一个是 w_ih  另一个是 w_hh"
   ]
  },
  {
   "cell_type": "code",
   "execution_count": null,
   "id": "bulgarian-stone",
   "metadata": {},
   "outputs": [],
   "source": []
  },
  {
   "cell_type": "code",
   "execution_count": null,
   "id": "resident-bones",
   "metadata": {},
   "outputs": [],
   "source": []
  },
  {
   "cell_type": "code",
   "execution_count": null,
   "id": "british-limit",
   "metadata": {},
   "outputs": [],
   "source": []
  }
 ],
 "metadata": {
  "kernelspec": {
   "display_name": "Python 3",
   "language": "python",
   "name": "python3"
  },
  "language_info": {
   "codemirror_mode": {
    "name": "ipython",
    "version": 3
   },
   "file_extension": ".py",
   "mimetype": "text/x-python",
   "name": "python",
   "nbconvert_exporter": "python",
   "pygments_lexer": "ipython3",
   "version": "3.6.6"
  }
 },
 "nbformat": 4,
 "nbformat_minor": 5
}
