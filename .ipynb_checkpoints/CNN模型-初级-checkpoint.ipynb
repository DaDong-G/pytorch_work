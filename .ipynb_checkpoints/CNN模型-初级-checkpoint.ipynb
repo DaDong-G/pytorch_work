{
 "cells": [
  {
   "cell_type": "code",
   "execution_count": 3,
   "id": "76438030",
   "metadata": {},
   "outputs": [],
   "source": [
    "import torch\n",
    "import torch.nn.functional as F\n",
    "# （bahchsize, 1，28，28）--> (卷积:  卷积核 5*5,输出(batchsize ,10,24,24) --> maxpooling(2,2) --> relu(batchsize , 10,12,12) -> \n",
    "#  卷积(内核 5 * 5, 输出 (batchsize,20,8,8)) ->   maxpooling(2,2) - relu(batchsize , 20,4,4) -> linearn(20 * 4 * 4 = 320) --> 10 "
   ]
  },
  {
   "cell_type": "code",
   "execution_count": 12,
   "id": "1c2bcc41",
   "metadata": {},
   "outputs": [],
   "source": [
    "class CnnNet(torch.nn.Module):\n",
    "    def __init__(self):\n",
    "        super(CnnNet,self).__init__()\n",
    "        self.conv_1 = torch.nn.Conv2d(1,10,kernel_size=5)\n",
    "        self.conv_2 = torch.nn.Conv2d(10,20,kernel_size=5)\n",
    "        self.pooling = torch.nn.MaxPool2d(2)\n",
    "        self.linear = torch.nn.Linear(320,10)\n",
    "    \n",
    "    def forward(self,X):\n",
    "        batch_size = X.size(0)\n",
    "        x = F.relu(self.pooling(self.conv_1(X)))\n",
    "        x = F.relu(self.pooling(self.conv_2(X)))\n",
    "        x = x.view(batch_size, -1)\n",
    "        x = self.linear(x)\n",
    "        return self.x\n",
    "    \n",
    "a = CnnNet()"
   ]
  },
  {
   "cell_type": "code",
   "execution_count": 9,
   "id": "4c0c6529",
   "metadata": {},
   "outputs": [
    {
     "name": "stdout",
     "output_type": "stream",
     "text": [
      "tensor([ 1,  2,  3,  4,  5,  6,  7,  8,  9, 10, 11, 12, 13, 14, 15, 16])\n",
      "16\n",
      "tensor([[ 1],\n",
      "        [ 2],\n",
      "        [ 3],\n",
      "        [ 4],\n",
      "        [ 5],\n",
      "        [ 6],\n",
      "        [ 7],\n",
      "        [ 8],\n",
      "        [ 9],\n",
      "        [10],\n",
      "        [11],\n",
      "        [12],\n",
      "        [13],\n",
      "        [14],\n",
      "        [15],\n",
      "        [16]])\n"
     ]
    }
   ],
   "source": [
    "a = torch.arange(1,17)\n",
    " \n",
    "print(a)\n",
    "print(a.size(0))\n",
    " \n",
    "b = a.view(a.size(0),-1)\n",
    "print(b)"
   ]
  }
 ],
 "metadata": {
  "kernelspec": {
   "display_name": "Python 3 (ipykernel)",
   "language": "python",
   "name": "python3"
  },
  "language_info": {
   "codemirror_mode": {
    "name": "ipython",
    "version": 3
   },
   "file_extension": ".py",
   "mimetype": "text/x-python",
   "name": "python",
   "nbconvert_exporter": "python",
   "pygments_lexer": "ipython3",
   "version": "3.8.3"
  }
 },
 "nbformat": 4,
 "nbformat_minor": 5
}
