{
 "cells": [
  {
   "cell_type": "code",
   "execution_count": null,
   "metadata": {
    "collapsed": true,
    "pycharm": {
     "name": "#%%\n"
    }
   },
   "outputs": [],
   "source": [
    "from gensim.models import Word2Vec\n",
    "import pandas as pd\n",
    "import jieba\n",
    "\n",
    "train_text = pd.read_csv('ai_data/virus_train.csv',encoding='utf-8')\n",
    "test_text = pd.read_csv('ai_data/virus_test.csv',encoding='utf-8')\n",
    "\n",
    "res = []\n",
    "for t in train_text.content:\n",
    "    tmp = [word.strip() for word in jieba.cut(t)]\n",
    "    res.append(tmp)\n",
    "    # break\n",
    "    \n",
    "for t in test_text.content:\n",
    "    tmp = [word.strip() for word in jieba.cut(t)]\n",
    "    res.append(tmp)\n",
    "\n",
    "model = Word2Vec(res, vector_size=300, window=6,min_count=2,epochs=100)\n",
    "model.wv.save_word2vec_format('ai_data/weibo.vector.txt',binary=False)\n",
    "\n"
   ]
  }
 ],
 "metadata": {
  "language_info": {
   "codemirror_mode": {
    "name": "ipython",
    "version": 2
   },
   "file_extension": ".py",
   "mimetype": "text/x-python",
   "name": "python",
   "nbconvert_exporter": "python",
   "pygments_lexer": "ipython2",
   "version": "2.7.6"
  },
  "kernelspec": {
   "name": "python3",
   "language": "python",
   "display_name": "Python 3"
  },
  "pycharm": {
   "stem_cell": {
    "cell_type": "raw",
    "source": [],
    "metadata": {
     "collapsed": false
    }
   }
  }
 },
 "nbformat": 4,
 "nbformat_minor": 0
}