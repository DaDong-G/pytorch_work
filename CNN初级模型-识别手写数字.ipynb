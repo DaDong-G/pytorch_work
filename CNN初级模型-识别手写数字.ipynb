{
 "cells": [
  {
   "cell_type": "code",
   "execution_count": 1,
   "id": "76438030",
   "metadata": {},
   "outputs": [],
   "source": [
    "import torch\n",
    "import torchvision.transforms as transforms\n",
    "from torchvision import datasets\n",
    "from torch.utils.data import DataLoader\n",
    "import torch.nn.functional as F\n",
    "# （bahchsize, 1，28，28）--> (卷积:  卷积核 5*5,输出(batchsize ,10,24,24) --> maxpooling(2,2) --> relu(batchsize , 10,12,12) -> \n",
    "#  卷积(内核 5 * 5, 输出 (batchsize,20,8,8)) ->   maxpooling(2,2) - relu(batchsize , 20,4,4) -> linearn(20 * 4 * 4 = 320) --> 10 "
   ]
  },
  {
   "cell_type": "code",
   "execution_count": 2,
   "id": "1c2bcc41",
   "metadata": {},
   "outputs": [],
   "source": [
    "class CnnNet(torch.nn.Module):\n",
    "    def __init__(self):\n",
    "        super(CnnNet,self).__init__()\n",
    "        self.conv_1 = torch.nn.Conv2d(1,10,kernel_size=(5,5))\n",
    "        self.conv_2 = torch.nn.Conv2d(10,20,kernel_size=(5,5))\n",
    "        self.pooling = torch.nn.MaxPool2d((2,2))\n",
    "        self.linear = torch.nn.Linear(320,10)\n",
    "    \n",
    "    def forward(self,x):\n",
    "        batch_size = x.size(0)\n",
    "        x = F.relu(self.pooling(self.conv_1(x)))\n",
    "#         print(x.shape)\n",
    "        x = F.relu(self.pooling(self.conv_2(x)))\n",
    "        # 变成一列\n",
    "#         print(x.shape)\n",
    "        x = x.view(batch_size,-1)\n",
    "#         print(x.shape)\n",
    "        x = self.linear(x)\n",
    "        return x\n",
    "    \n"
   ]
  },
  {
   "cell_type": "code",
   "execution_count": 3,
   "id": "4c0c6529",
   "metadata": {},
   "outputs": [],
   "source": [
    "transform = transforms.Compose([\n",
    "    transforms.ToTensor(),\n",
    "#     transforms.Normalize()\n",
    "    ])\n",
    "train_data = datasets.FashionMNIST(root=\"ai_data\",train=True,download=False,transform=transform)\n",
    "test_data = datasets.FashionMNIST(root=\"ai_data\",train=False,download=False,transform=transform)\n",
    "train_loder = DataLoader(train_data,batch_size=32,shuffle=True,num_workers=1)\n",
    "test_loder = DataLoader(train_data,batch_size=32,shuffle=True,num_workers=1)"
   ]
  },
  {
   "cell_type": "code",
   "execution_count": 4,
   "id": "a63f85c3",
   "metadata": {},
   "outputs": [],
   "source": [
    "cnn_net = CnnNet()\n",
    "loss = torch.nn.CrossEntropyLoss(reduction=\"mean\")\n",
    "optimizer = torch.optim.SGD(cnn_net.parameters(),lr=0.01,momentum=0.5)"
   ]
  },
  {
   "cell_type": "code",
   "execution_count": 5,
   "id": "ffa1b373",
   "metadata": {},
   "outputs": [
    {
     "ename": "ValueError",
     "evalue": "not enough values to unpack (expected 3, got 2)",
     "output_type": "error",
     "traceback": [
      "\u001b[1;31m---------------------------------------------------------------------------\u001b[0m",
      "\u001b[1;31mValueError\u001b[0m                                Traceback (most recent call last)",
      "\u001b[1;32m<ipython-input-5-5e473ec50bef>\u001b[0m in \u001b[0;36m<module>\u001b[1;34m\u001b[0m\n\u001b[0;32m     25\u001b[0m     \u001b[0mprint\u001b[0m\u001b[1;33m(\u001b[0m\u001b[0mnum\u001b[0m\u001b[1;33m)\u001b[0m\u001b[1;33m\u001b[0m\u001b[0m\n\u001b[0;32m     26\u001b[0m     \u001b[0mprint\u001b[0m\u001b[1;33m(\u001b[0m\u001b[0mloss_item\u001b[0m\u001b[1;33m)\u001b[0m\u001b[1;33m\u001b[0m\u001b[0m\n\u001b[1;32m---> 27\u001b[1;33m \u001b[0mtrain\u001b[0m\u001b[1;33m(\u001b[0m\u001b[1;36m1\u001b[0m\u001b[1;33m)\u001b[0m\u001b[1;33m\u001b[0m\u001b[0m\n\u001b[0m\u001b[0;32m     28\u001b[0m \u001b[0mtest\u001b[0m\u001b[1;33m(\u001b[0m\u001b[1;33m)\u001b[0m\u001b[1;33m\u001b[0m\u001b[0m\n",
      "\u001b[1;32m<ipython-input-5-5e473ec50bef>\u001b[0m in \u001b[0;36mtrain\u001b[1;34m(epochs)\u001b[0m\n\u001b[0;32m      6\u001b[0m \u001b[1;33m\u001b[0m\u001b[0m\n\u001b[0;32m      7\u001b[0m         \u001b[1;32mfor\u001b[0m \u001b[0mi\u001b[0m \u001b[1;33m,\u001b[0m \u001b[0mdata\u001b[0m \u001b[1;32min\u001b[0m \u001b[0menumerate\u001b[0m\u001b[1;33m(\u001b[0m\u001b[0mtrain_loder\u001b[0m\u001b[1;33m)\u001b[0m\u001b[1;33m:\u001b[0m\u001b[1;33m\u001b[0m\u001b[0m\n\u001b[1;32m----> 8\u001b[1;33m             \u001b[0mx\u001b[0m\u001b[1;33m,\u001b[0m \u001b[0my\u001b[0m\u001b[1;33m,\u001b[0m\u001b[0ml\u001b[0m \u001b[1;33m=\u001b[0m \u001b[0mdata\u001b[0m\u001b[1;33m\u001b[0m\u001b[0m\n\u001b[0m\u001b[0;32m      9\u001b[0m             \u001b[0mprint\u001b[0m\u001b[1;33m(\u001b[0m\u001b[0mx\u001b[0m\u001b[1;33m,\u001b[0m\u001b[0my\u001b[0m\u001b[1;33m,\u001b[0m\u001b[0ml\u001b[0m\u001b[1;33m)\u001b[0m\u001b[1;33m\u001b[0m\u001b[0m\n\u001b[0;32m     10\u001b[0m             \u001b[1;32mbreak\u001b[0m\u001b[1;33m\u001b[0m\u001b[0m\n",
      "\u001b[1;31mValueError\u001b[0m: not enough values to unpack (expected 3, got 2)"
     ]
    }
   ],
   "source": [
    "def train(epochs):\n",
    "    num = []\n",
    "    loss_item = []\n",
    "    running_loss = 0.0\n",
    "    for epoch in range(epochs):\n",
    "        \n",
    "        for i , data in enumerate(train_loder):\n",
    "            x, y = data\n",
    "            y_hat = cnn_net(x)\n",
    "            l = loss(y_hat , y)\n",
    "            optimizer.zero_grad()\n",
    "            l.backward()\n",
    "            optimizer.step()\n",
    "#             print(f\"第{epoch + 1}轮 ， 第{i}次的损失值:{l.item()}\")\n",
    "            \n",
    "            running_loss += l.item()\n",
    "            # 每 100 次 查看一下损失\n",
    "            if i % 50 == 49:\n",
    "                num.append(i+1)\n",
    "                loss_item.append(running_loss / 100)\n",
    "                running_loss = 0.0\n",
    "#                 break\n",
    "    print(num)\n",
    "    print(loss_item)\n",
    "train(1)\n",
    "test()"
   ]
  },
  {
   "cell_type": "code",
   "execution_count": 123,
   "id": "eb1e6290",
   "metadata": {},
   "outputs": [
    {
     "name": "stdout",
     "output_type": "stream",
     "text": [
      "Accuracy on test set: 65 %\n"
     ]
    }
   ],
   "source": [
    "def test():\n",
    "    corrent = 0\n",
    "    total = 0\n",
    "    with torch.no_grad():\n",
    "        for i , data in enumerate(train_loder):\n",
    "            x , y = data\n",
    "            y_hat = cnn_net(x)\n",
    "\n",
    "            '''\n",
    "            torch.max(input, dim, keepdim=False, out=None)\n",
    "            按维度dim返回最大值，0为按列取最大值，1为按行取最大值\n",
    "            （最大值，最大值索引）\n",
    "            下面语句代表按行取最大值对应索引，即标签值        \n",
    "            prediction[0] 代表取值， [1]代表取对应的索引\n",
    "            '''\n",
    "            prediction = torch.max(y_hat.data, 1)[1]\n",
    "            total += len(y)\n",
    "            corrent += (y == prediction).sum().item()\n",
    "            break\n",
    "        print('Accuracy on test set: %d %%' % (100 * corrent / total))\n",
    "test()\n",
    "    "
   ]
  },
  {
   "cell_type": "code",
   "execution_count": 119,
   "id": "4609de6d",
   "metadata": {},
   "outputs": [
    {
     "name": "stdout",
     "output_type": "stream",
     "text": [
      "0\n",
      "1\n",
      "2\n"
     ]
    }
   ],
   "source": [
    "def start():\n",
    "    # 训练3轮\n",
    "    train(1)\n",
    "    test()\n",
    "start()\n",
    "        "
   ]
  },
  {
   "cell_type": "code",
   "execution_count": 125,
   "id": "eaa1ac6f",
   "metadata": {},
   "outputs": [
    {
     "data": {
      "text/plain": [
       "299"
      ]
     },
     "execution_count": 125,
     "metadata": {},
     "output_type": "execute_result"
    }
   ],
   "source": []
  }
 ],
 "metadata": {
  "kernelspec": {
   "display_name": "Python 3",
   "language": "python",
   "name": "python3"
  },
  "language_info": {
   "codemirror_mode": {
    "name": "ipython",
    "version": 3
   },
   "file_extension": ".py",
   "mimetype": "text/x-python",
   "name": "python",
   "nbconvert_exporter": "python",
   "pygments_lexer": "ipython3",
   "version": "3.6.6"
  },
  "pycharm": {
   "stem_cell": {
    "cell_type": "raw",
    "metadata": {
     "collapsed": false
    },
    "source": []
   }
  }
 },
 "nbformat": 4,
 "nbformat_minor": 5
}
