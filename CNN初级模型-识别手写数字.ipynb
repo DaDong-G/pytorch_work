{
 "cells": [
  {
   "cell_type": "code",
   "execution_count": 5,
   "id": "76438030",
   "metadata": {},
   "outputs": [],
   "source": [
    "import torch\n",
    "import torchvision.transforms as transforms\n",
    "from torchvision import datasets\n",
    "from torch.utils.data import DataLoader\n",
    "import torch.nn.functional as F\n",
    "# （bahchsize, 1，28，28）--> (卷积:  卷积核 5*5,输出(batchsize ,10,24,24) --> maxpooling(2,2) --> relu(batchsize , 10,12,12) -> \n",
    "#  卷积(内核 5 * 5, 输出 (batchsize,20,8,8)) ->   maxpooling(2,2) - relu(batchsize , 20,4,4) -> linearn(20 * 4 * 4 = 320) --> 10 "
   ]
  },
  {
   "cell_type": "code",
   "execution_count": 80,
   "id": "1c2bcc41",
   "metadata": {},
   "outputs": [],
   "source": [
    "class CnnNet(torch.nn.Module):\n",
    "    def __init__(self):\n",
    "        super(CnnNet,self).__init__()\n",
    "        self.conv_1 = torch.nn.Conv2d(1,10,kernel_size=(5,5))\n",
    "        self.conv_2 = torch.nn.Conv2d(10,20,kernel_size=(5,5))\n",
    "        self.pooling = torch.nn.MaxPool2d((2,2))\n",
    "        self.linear = torch.nn.Linear(320,10)\n",
    "    \n",
    "    def forward(self,x):\n",
    "        batch_size = x.size(0)\n",
    "        x = F.relu(self.pooling(self.conv_1(x)))\n",
    "#         print(x.shape)\n",
    "        x = F.relu(self.pooling(self.conv_2(x)))\n",
    "        # 变成一列\n",
    "#         print(x.shape)\n",
    "        x = x.view(batch_size,-1)\n",
    "#         print(x.shape)\n",
    "        x = self.linear(x)\n",
    "        return x\n",
    "    \n"
   ]
  },
  {
   "cell_type": "code",
   "execution_count": 8,
   "id": "4c0c6529",
   "metadata": {},
   "outputs": [],
   "source": [
    "transform = transforms.Compose([\n",
    "    transforms.ToTensor(),\n",
    "#     transforms.Normalize()\n",
    "    ])\n",
    "train_data = datasets.FashionMNIST(root=\"ai_data\",train=True,download=False,transform=transform)\n",
    "test_data = datasets.FashionMNIST(root=\"ai_data\",train=False,download=False,transform=transform)\n",
    "train_loder = DataLoader(train_data,batch_size=32,shuffle=True,num_workers=1)\n",
    "test_loder = DataLoader(train_data,batch_size=32,shuffle=True,num_workers=1)"
   ]
  },
  {
   "cell_type": "code",
   "execution_count": 81,
   "id": "a63f85c3",
   "metadata": {},
   "outputs": [],
   "source": [
    "cnn_net = CnnNet()\n",
    "loss = torch.nn.CrossEntropyLoss(reduction=\"mean\")\n",
    "optimizer = torch.optim.SGD(cnn_net.parameters(),lr=0.01,momentum=0.5)"
   ]
  },
  {
   "cell_type": "code",
   "execution_count": 131,
   "id": "ffa1b373",
   "metadata": {},
   "outputs": [
    {
     "name": "stdout",
     "output_type": "stream",
     "text": [
      "[50, 100, 150, 200, 250, 300, 350, 400, 450, 500, 550, 600, 650, 700, 750, 800, 850, 900, 950, 1000, 1050, 1100, 1150, 1200, 1250, 1300, 1350, 1400, 1450, 1500, 1550, 1600, 1650, 1700, 1750, 1800, 1850]\n",
      "[0.21345706805586814, 0.20614102944731713, 0.21352418914437293, 0.22124315947294235, 0.21388401389122008, 0.2355054000020027, 0.20451712988317014, 0.20971192330121993, 0.23094988137483596, 0.2001102887094021, 0.22219557493925093, 0.21251028448343276, 0.19906586319208144, 0.2031318140029907, 0.2114003126323223, 0.20733403727412225, 0.20513707712292673, 0.21196244686841964, 0.1953221020102501, 0.1774888701736927, 0.216834122389555, 0.20997752249240875, 0.21641527652740478, 0.21529632434248924, 0.2069263057410717, 0.18000113785266877, 0.199957125633955, 0.20526699870824813, 0.195643662661314, 0.1973426252603531, 0.19907417759299278, 0.20998738780617715, 0.21577485859394074, 0.19023045763373375, 0.19888735190033913, 0.1952510331571102, 0.22179043605923654]\n",
      "Accuracy on test set: 96 %\n"
     ]
    }
   ],
   "source": [
    "def train(epochs):\n",
    "    num = []\n",
    "    loss_item = []\n",
    "    running_loss = 0.0\n",
    "    for epoch in range(epochs):\n",
    "        \n",
    "        for i , data in enumerate(train_loder):\n",
    "            x, y = data\n",
    "            y_hat = cnn_net(x)\n",
    "            l = loss(y_hat , y)\n",
    "            optimizer.zero_grad()\n",
    "            l.backward()\n",
    "            optimizer.step()\n",
    "#             print(f\"第{epoch + 1}轮 ， 第{i}次的损失值:{l.item()}\")\n",
    "            \n",
    "            running_loss += l.item()\n",
    "            # 每 100 次 查看一下损失\n",
    "            if i % 50 == 49:\n",
    "                num.append(i+1)\n",
    "                loss_item.append(running_loss / 100)\n",
    "                running_loss = 0.0\n",
    "#                 break\n",
    "    print(num)\n",
    "    print(loss_item)\n",
    "train(1)\n",
    "test()"
   ]
  },
  {
   "cell_type": "code",
   "execution_count": 123,
   "id": "eb1e6290",
   "metadata": {},
   "outputs": [
    {
     "name": "stdout",
     "output_type": "stream",
     "text": [
      "Accuracy on test set: 65 %\n"
     ]
    }
   ],
   "source": [
    "def test():\n",
    "    corrent = 0\n",
    "    total = 0\n",
    "    with torch.no_grad():\n",
    "        for i , data in enumerate(train_loder):\n",
    "            x , y = data\n",
    "            y_hat = cnn_net(x)\n",
    "\n",
    "            '''\n",
    "            torch.max(input, dim, keepdim=False, out=None)\n",
    "            按维度dim返回最大值，0为按列取最大值，1为按行取最大值\n",
    "            （最大值，最大值索引）\n",
    "            下面语句代表按行取最大值对应索引，即标签值        \n",
    "            prediction[0] 代表取值， [1]代表取对应的索引\n",
    "            '''\n",
    "            prediction = torch.max(y_hat.data, 1)[1]\n",
    "            total += len(y)\n",
    "            corrent += (y == prediction).sum().item()\n",
    "            break\n",
    "        print('Accuracy on test set: %d %%' % (100 * corrent / total))\n",
    "test()\n",
    "    "
   ]
  },
  {
   "cell_type": "code",
   "execution_count": 119,
   "id": "4609de6d",
   "metadata": {},
   "outputs": [
    {
     "name": "stdout",
     "output_type": "stream",
     "text": [
      "0\n",
      "1\n",
      "2\n"
     ]
    }
   ],
   "source": [
    "def start():\n",
    "    # 训练3轮\n",
    "    train(1)\n",
    "    test()\n",
    "start()\n",
    "        "
   ]
  },
  {
   "cell_type": "code",
   "execution_count": 125,
   "id": "eaa1ac6f",
   "metadata": {},
   "outputs": [
    {
     "data": {
      "text/plain": [
       "299"
      ]
     },
     "execution_count": 125,
     "metadata": {},
     "output_type": "execute_result"
    }
   ],
   "source": []
  }
 ],
 "metadata": {
  "kernelspec": {
   "display_name": "Python 3 (ipykernel)",
   "language": "python",
   "name": "python3"
  },
  "language_info": {
   "codemirror_mode": {
    "name": "ipython",
    "version": 3
   },
   "file_extension": ".py",
   "mimetype": "text/x-python",
   "name": "python",
   "nbconvert_exporter": "python",
   "pygments_lexer": "ipython3",
   "version": "3.8.3"
  },
  "pycharm": {
   "stem_cell": {
    "cell_type": "raw",
    "source": [],
    "metadata": {
     "collapsed": false
    }
   }
  }
 },
 "nbformat": 4,
 "nbformat_minor": 5
}