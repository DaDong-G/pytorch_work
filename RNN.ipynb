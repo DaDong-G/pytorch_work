{
 "cells": [
  {
   "cell_type": "code",
   "execution_count": 2,
   "id": "known-melissa",
   "metadata": {},
   "outputs": [],
   "source": [
    "import torch"
   ]
  },
  {
   "cell_type": "code",
   "execution_count": 10,
   "id": "aquatic-adaptation",
   "metadata": {},
   "outputs": [],
   "source": [
    "# 使用独热向量\n",
    "index2char = [\"e\",\"l\",\"h\",\"o\"]\n",
    "# olleh \n",
    "x_data = [3,1,1,0,2]\n",
    "# hello \n",
    "y_data = [2,0,1,1,3]\n",
    "one_hot_look_map = [[1,0,0,0],\n",
    "                    [0,1,0,0],\n",
    "                    [0,0,1,0],\n",
    "                    [0,0,0,1]]\n",
    "x_one_hot = [one_hot_look_map[i] for i in x_data]"
   ]
  },
  {
   "cell_type": "code",
   "execution_count": 12,
   "id": "framed-moscow",
   "metadata": {},
   "outputs": [
    {
     "name": "stdout",
     "output_type": "stream",
     "text": [
      "tensor([[ 0.0612,  0.1148, -0.9699,  0.9773, -0.6691, -1.6747, -0.9929, -0.0385],\n",
      "        [ 0.5977,  0.9351, -0.6827,  0.4459,  0.0078,  0.3516, -0.1168,  0.1276],\n",
      "        [ 0.5977,  0.9351, -0.6827,  0.4459,  0.0078,  0.3516, -0.1168,  0.1276],\n",
      "        [-0.0164,  1.2528, -0.7159, -0.9348, -0.4904,  3.1312,  1.7475, -1.1981],\n",
      "        [-0.6210,  0.7569, -1.8605, -0.8513, -2.0016, -0.7551,  0.1301, -0.1526]],\n",
      "       grad_fn=<EmbeddingBackward>)\n"
     ]
    }
   ],
   "source": [
    "# 使用 torch.embending\n",
    "x = torch.LongTensor(x_data)\n",
    "y = torch.LongTensor(y_data)\n",
    "input_size = 5\n",
    "hidden_size = 10\n",
    "embeding_size = 8\n",
    "emb = torch.nn.Embedding(input_size,embeding_size)\n",
    "x = emb(x)\n",
    "print(x)"
   ]
  },
  {
   "cell_type": "code",
   "execution_count": 20,
   "id": "smart-bones",
   "metadata": {},
   "outputs": [],
   "source": [
    "class Model(torch.nn.Module):\n",
    "    def __init__(self):\n",
    "        super(Model,self).__init__()\n",
    "        self.rnn = torch.nn.RNN(input_size=embeding_size,hidden)"
   ]
  },
  {
   "cell_type": "code",
   "execution_count": null,
   "id": "graphic-quality",
   "metadata": {},
   "outputs": [],
   "source": []
  }
 ],
 "metadata": {
  "kernelspec": {
   "display_name": "Python 3",
   "language": "python",
   "name": "python3"
  },
  "language_info": {
   "codemirror_mode": {
    "name": "ipython",
    "version": 3
   },
   "file_extension": ".py",
   "mimetype": "text/x-python",
   "name": "python",
   "nbconvert_exporter": "python",
   "pygments_lexer": "ipython3",
   "version": "3.6.6"
  }
 },
 "nbformat": 4,
 "nbformat_minor": 5
}
