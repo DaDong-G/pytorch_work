{
 "cells": [
  {
   "cell_type": "code",
   "execution_count": 15,
   "id": "hollow-opposition",
   "metadata": {
    "pycharm": {
     "is_executing": false
    }
   },
   "outputs": [],
   "source": [
    "import torch\n",
    "from gensim.models import word2vec\n",
    "from collections import defaultdict\n",
    "from gensim import corpora\n",
    "from torch.autograd import Variable\n",
    "import numpy as np  \n",
    "from torch.nn.utils.rnn import pack_padded_sequence"
   ]
  },
  {
   "cell_type": "code",
   "execution_count": 4,
   "id": "valuable-humor",
   "metadata": {},
   "outputs": [],
   "source": [
    "documents = [\"Human machine interface for lab abc computer applications\",\n",
    "             \"A survey of user opinion of computer system response time\",\n",
    "             \"The EPS user interface management system\",\n",
    "             \"System and human system engineering testing of EPS\",\n",
    "             \"Relation of user perceived response time to error measurement\",\n",
    "             \"The generation of random binary unordered trees\",\n",
    "             \"The intersection graph of paths in trees\",\n",
    "             \"Graph minors IV Widths of trees and well quasi ordering\",\n",
    "             \"Graph minors A survey\"]"
   ]
  },
  {
   "cell_type": "code",
   "execution_count": 11,
   "id": "beginning-inquiry",
   "metadata": {},
   "outputs": [
    {
     "data": {
      "text/plain": [
       "[['human', 'machine', 'interface', 'lab', 'abc', 'computer', 'applications'],\n",
       " ['survey', 'user', 'opinion', 'computer', 'system', 'response', 'time'],\n",
       " ['eps', 'user', 'interface', 'management', 'system'],\n",
       " ['system', 'human', 'system', 'engineering', 'testing', 'eps'],\n",
       " ['relation', 'user', 'perceived', 'response', 'time', 'error', 'measurement'],\n",
       " ['generation', 'random', 'binary', 'unordered', 'trees'],\n",
       " ['intersection', 'graph', 'paths', 'trees'],\n",
       " ['graph', 'minors', 'iv', 'widths', 'trees', 'well', 'quasi', 'ordering'],\n",
       " ['graph', 'minors', 'survey']]"
      ]
     },
     "execution_count": 11,
     "metadata": {},
     "output_type": "execute_result"
    }
   ],
   "source": [
    "#  去掉停用词\n",
    "stoplist = set('for a of the and to in'.split())"
   ]
  },
  {
   "cell_type": "code",
   "execution_count": 28,
   "id": "piano-possession",
   "metadata": {},
   "outputs": [
    {
     "data": {
      "text/plain": [
       "[['human', 'interface', 'computer'],\n",
       " ['survey', 'user', 'computer', 'system', 'response', 'time'],\n",
       " ['eps', 'user', 'interface', 'system'],\n",
       " ['system', 'human', 'system', 'eps'],\n",
       " ['user', 'response', 'time'],\n",
       " ['trees'],\n",
       " ['graph', 'trees'],\n",
       " ['graph', 'minors', 'trees'],\n",
       " ['graph', 'minors', 'survey']]"
      ]
     },
     "execution_count": 28,
     "metadata": {},
     "output_type": "execute_result"
    }
   ],
   "source": [
    "# 去掉只出现一次的单词\n",
    "frequency = defaultdict(int)\n",
    "for text in texts:\n",
    "    for token in text:\n",
    "        frequency[token] += 1\n",
    "        \n",
    "texts = [[token for token in text if frequency[token] > 1]\n",
    "         for text in texts]\n",
    "texts"
   ]
  },
  {
   "cell_type": "code",
   "execution_count": 34,
   "id": "enclosed-network",
   "metadata": {},
   "outputs": [
    {
     "name": "stdout",
     "output_type": "stream",
     "text": [
      "{'computer': 0, 'human': 1, 'interface': 2, 'response': 3, 'survey': 4, 'system': 5, 'time': 6, 'user': 7, 'eps': 8, 'trees': 9, 'graph': 10, 'minors': 11}\n",
      "{1: 2, 2: 2, 0: 2, 4: 2, 7: 3, 5: 3, 3: 2, 6: 2, 8: 2, 9: 3, 10: 3, 11: 2}\n",
      "<bound method Dictionary.doc2bow of <gensim.corpora.dictionary.Dictionary object at 0x00000259053A0978>>\n"
     ]
    }
   ],
   "source": [
    "dictionary = corpora.Dictionary(texts)   # 生成词典\n",
    "print(dictionary.token2id)\n",
    "print(dictionary.dfs)\n",
    "print(dictionary.doc2bow)"
   ]
  },
  {
   "cell_type": "code",
   "execution_count": 35,
   "id": "suspected-cradle",
   "metadata": {},
   "outputs": [],
   "source": [
    "t = word2vec.Word2Vec(texts, min_count=1)"
   ]
  },
  {
   "cell_type": "code",
   "execution_count": 11,
   "id": "russian-greek",
   "metadata": {
    "pycharm": {
     "is_executing": false
    }
   },
   "outputs": [
    {
     "name": "stdout",
     "text": [
      "[1 3]\n"
     ],
     "output_type": "stream"
    }
   ],
   "source": [
    "x = torch.FloatTensor([[1, 0, 0], [1, 2, 3]]).resize_(2, 3, 1)\n",
    "x = Variable(x)  # [batch, seq, feature], [2, 3, 1]\n",
    "seq_lengths = np.array([1, 3])# list of integers holding information about the batch size at each sequence step\n",
    "print(seq_lengths)"
   ]
  },
  {
   "cell_type": "code",
   "execution_count": 17,
   "id": "relevant-translator",
   "metadata": {
    "pycharm": {
     "is_executing": false
    }
   },
   "outputs": [
    {
     "name": "stdout",
     "text": [
      "tensor([[[1.],\n         [2.],\n         [3.]],\n\n        [[1.],\n         [0.],\n         [0.]]])\n[3 1]\n"
     ],
     "output_type": "stream"
    }
   ],
   "source": [
    "order_idx = np.argsort(seq_lengths)[::-1]\n",
    "# print('order_idx:', str(order_idx))\n",
    "order_x = x[order_idx.tolist()]\n",
    "order_seq = seq_lengths[order_idx]\n",
    "pack = pack_padded_sequence(order_x, order_seq, batch_first=True)\n",
    "print(order_x)\n",
    "print(order_seq)"
   ]
  },
  {
   "cell_type": "code",
   "execution_count": null,
   "outputs": [],
   "source": [],
   "metadata": {
    "collapsed": false,
    "pycharm": {
     "name": "#%%\n"
    }
   }
  },
  {
   "cell_type": "code",
   "execution_count": null,
   "outputs": [],
   "source": [
    "from torch.nn.utils.rnn import pad_sequence\n",
    "a = torch.Tensor([[1,2,3],\n",
    "                  [1,2,4]])\n",
    "b = torch.Tensor([[1,2,3],\n",
    "                  [2,3,4],\n",
    "                  [4,5,6]])\n",
    "# c = torch.ones(4, 10)\n",
    "d = pad_sequence([a, b],batch_first=True)\n",
    "print(d.shape)\n",
    "print(d)\n",
    "\n"
   ],
   "metadata": {
    "collapsed": false,
    "pycharm": {
     "name": "#%%\n"
    }
   }
  }
 ],
 "metadata": {
  "kernelspec": {
   "display_name": "Python 3",
   "language": "python",
   "name": "python3"
  },
  "language_info": {
   "codemirror_mode": {
    "name": "ipython",
    "version": 3
   },
   "file_extension": ".py",
   "mimetype": "text/x-python",
   "name": "python",
   "nbconvert_exporter": "python",
   "pygments_lexer": "ipython3",
   "version": "3.6.6"
  },
  "pycharm": {
   "stem_cell": {
    "cell_type": "raw",
    "source": [],
    "metadata": {
     "collapsed": false
    }
   }
  }
 },
 "nbformat": 4,
 "nbformat_minor": 5
}