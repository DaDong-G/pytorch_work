{
 "cells": [
  {
   "cell_type": "code",
   "execution_count": 3,
   "id": "composed-plastic",
   "metadata": {},
   "outputs": [],
   "source": [
    "import torch\n",
    "import torch.nn.functional as F"
   ]
  },
  {
   "cell_type": "code",
   "execution_count": 15,
   "id": "latin-behalf",
   "metadata": {},
   "outputs": [
    {
     "data": {
      "text/plain": [
       "tensor([[[[1.0973, 2.0973, 3.0973],\n",
       "          [3.9774, 4.6937, 5.6348],\n",
       "          [6.4430, 7.4558, 8.8629]],\n",
       "\n",
       "         [[1.2160, 2.2160, 3.2160],\n",
       "          [4.9479, 5.9718, 6.5344],\n",
       "          [6.9498, 7.5582, 8.5432]]]], grad_fn=<AddBackward0>)"
      ]
     },
     "execution_count": 15,
     "metadata": {},
     "output_type": "execute_result"
    }
   ],
   "source": [
    "class ResidualNet(torch.nn.Module):\n",
    "    # 需要保证输出层的大小不变，卷积核是3 ， 需要填充 padding 1  因为 7- 3 + 1 = 5\n",
    "    def __init__(self,channel):\n",
    "        super(ResidualNet,self).__init__()\n",
    "        self.conv_1 = torch.nn.Conv2d(channel,channel,kernel_size=3,padding=1)\n",
    "        self.conv_2 = torch.nn.Conv2d(channel,channel,kernel_size=3,padding=1)\n",
    "        \n",
    "    def forward(self,x):\n",
    "        y = F.relu(self.conv_1(x))\n",
    "        y = self.conv_2(y)\n",
    "        return y + x\n",
    "\n",
    "    \n",
    "r = ResidualNet(2)\n",
    "a = torch.Tensor([1,2,3,4,5,6,7,8,9,1,2,3,4,5,6,7,8,9]).view(1,2,3,3)\n",
    "y = r(a)\n",
    "y"
   ]
  },
  {
   "cell_type": "code",
   "execution_count": null,
   "id": "negative-lebanon",
   "metadata": {},
   "outputs": [],
   "source": []
  }
 ],
 "metadata": {
  "kernelspec": {
   "display_name": "Python 3",
   "language": "python",
   "name": "python3"
  },
  "language_info": {
   "codemirror_mode": {
    "name": "ipython",
    "version": 3
   },
   "file_extension": ".py",
   "mimetype": "text/x-python",
   "name": "python",
   "nbconvert_exporter": "python",
   "pygments_lexer": "ipython3",
   "version": "3.6.6"
  }
 },
 "nbformat": 4,
 "nbformat_minor": 5
}
