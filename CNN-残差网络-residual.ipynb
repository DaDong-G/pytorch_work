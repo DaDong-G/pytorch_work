{
 "cells": [
  {
   "cell_type": "code",
   "execution_count": 34,
   "id": "composed-plastic",
   "metadata": {
    "pycharm": {
     "is_executing": false
    }
   },
   "outputs": [],
   "source": [
    "import torch\n",
    "import torch.nn.functional as F\n",
    "from torchvision import datasets\n",
    "from torch.utils.data import DataLoader\n",
    "import torchvision.transforms as transforms"
   ]
  },
  {
   "cell_type": "code",
   "execution_count": 11,
   "id": "latin-behalf",
   "metadata": {
    "pycharm": {
     "is_executing": false
    }
   },
   "outputs": [
    {
     "data": {
      "text/plain": "tensor([[[[1.1678, 2.0073, 2.6140],\n          [3.7471, 5.0567, 5.6851],\n          [7.0861, 8.9127, 9.0825]],\n\n         [[1.4829, 3.0897, 3.9202],\n          [4.0649, 5.8924, 6.7603],\n          [6.9386, 8.3186, 9.3487]]]], grad_fn=<AddBackward0>)"
     },
     "metadata": {},
     "output_type": "execute_result",
     "execution_count": 11
    }
   ],
   "source": [
    "class ResidualNet(torch.nn.Module):\n",
    "    # 需要保证输出层的大小不变，卷积核是3 ， 需要填充 padding 1  因为 7- 3 + 1 = 5\n",
    "    def __init__(self,channel):\n",
    "        super(ResidualNet,self).__init__()\n",
    "        self.conv_1 = torch.nn.Conv2d(channel,channel,kernel_size=(3,3),padding=1)\n",
    "        self.conv_2 = torch.nn.Conv2d(channel,channel,kernel_size=(3,3),padding=1)\n",
    "        \n",
    "    def forward(self,x):\n",
    "        y = F.relu(self.conv_1(x))\n",
    "        y = self.conv_2(y)\n",
    "        return y + x\n",
    "\n",
    "    \n",
    "r = ResidualNet(2)\n",
    "a = torch.Tensor([1,2,3,4,5,6,7,8,9,1,2,3,4,5,6,7,8,9]).view(1,2,3,3)\n",
    "y = r(a)\n",
    "y"
   ]
  },
  {
   "cell_type": "code",
   "execution_count": 45,
   "id": "negative-lebanon",
   "metadata": {
    "pycharm": {
     "is_executing": false,
     "name": "#%%\n"
    }
   },
   "outputs": [],
   "source": [
    "# im = Image.open(\"1.png\")\n",
    "# transform = transforms.ToTensor()\n",
    "# tensor = transform(im)\n",
    "# print(tensor.shape)\n",
    "train_data = datasets.FashionMNIST(\"ai_data\",train=True,download=False,transform=transforms.ToTensor())\n",
    "test_data = datasets.FashionMNIST(\"ai_data\",train=False,download=False,transform=transforms.ToTensor())\n",
    "train_loader = DataLoader(train_data,batch_size=32,shuffle=True,num_workers=1)\n",
    "test_loader = DataLoader(train_data,batch_size=32,shuffle=True,num_workers=1)"
   ]
  },
  {
   "cell_type": "code",
   "execution_count": 57,
   "outputs": [],
   "source": [
    "class Net(torch.nn.Module):\n",
    "    def __init__(self):\n",
    "        super(Net,self).__init__()\n",
    "        self.model = torch.nn.Sequential(\n",
    "            torch.nn.Conv2d(1,16,kernel_size=(5,5)),\n",
    "            torch.nn.ReLU(),\n",
    "            torch.nn.MaxPool2d(2),\n",
    "            ResidualNet(16),\n",
    "            \n",
    "            torch.nn.Conv2d(16,32,kernel_size=(5,5)),\n",
    "            torch.nn.ReLU(),\n",
    "            torch.nn.MaxPool2d((2,2)),\n",
    "            ResidualNet(32),\n",
    "        )\n",
    "        # self.conv_1 = torch.nn.Conv2d(1,16,kernel_size=(5,5))\n",
    "        # self.conv_2 = torch.nn.Conv2d(16,32,kernel_size=(5,5))\n",
    "        # self.pool_max = torch.nn.MaxPool2d((2,2))\n",
    "        # self.r_block_1 = ResidualNet(16)\n",
    "        # self.r_block_2 = ResidualNet(32)\n",
    "        \n",
    "    def forward(self, x):\n",
    "        x = self.model(x)\n",
    "        # x = self.pool_max(F.relu(self.conv_1(x)))\n",
    "        # x = self.r_block_1(x)\n",
    "        # x = self.pool_max(F.relu(self.conv_2(x)))\n",
    "        # x = self.r_block_2(x)\n",
    "        return x\n",
    "        "
   ],
   "metadata": {
    "collapsed": false,
    "pycharm": {
     "name": "#%%\n",
     "is_executing": false
    }
   }
  },
  {
   "cell_type": "code",
   "execution_count": 58,
   "outputs": [
    {
     "name": "stdout",
     "text": [
      "torch.Size([32, 32, 4, 4])\n"
     ],
     "output_type": "stream"
    }
   ],
   "source": [
    "a = Net()\n",
    "for i in train_loader:\n",
    "    x , y = i\n",
    "    y_hat = a(x)\n",
    "    print(y_hat.shape)\n",
    "    break\n",
    "\n",
    "\n"
   ],
   "metadata": {
    "collapsed": false,
    "pycharm": {
     "name": "#%%\n",
     "is_executing": false
    }
   }
  }
 ],
 "metadata": {
  "kernelspec": {
   "display_name": "Python 3",
   "language": "python",
   "name": "python3"
  },
  "language_info": {
   "codemirror_mode": {
    "name": "ipython",
    "version": 3
   },
   "file_extension": ".py",
   "mimetype": "text/x-python",
   "name": "python",
   "nbconvert_exporter": "python",
   "pygments_lexer": "ipython3",
   "version": "3.6.6"
  },
  "pycharm": {
   "stem_cell": {
    "cell_type": "raw",
    "source": [],
    "metadata": {
     "collapsed": false
    }
   }
  }
 },
 "nbformat": 4,
 "nbformat_minor": 5
}