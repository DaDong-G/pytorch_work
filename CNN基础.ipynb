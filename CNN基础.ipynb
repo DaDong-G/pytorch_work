{
 "cells": [
  {
   "cell_type": "code",
   "execution_count": 2,
   "id": "2321e6bf",
   "metadata": {},
   "outputs": [],
   "source": [
    "import torch"
   ]
  },
  {
   "cell_type": "code",
   "execution_count": 28,
   "id": "95a951e8",
   "metadata": {},
   "outputs": [],
   "source": [
    "in_channel , out_channnel = 6,10\n",
    "weight , height = 100,100\n",
    "# 卷积核的大小\n",
    "kernel_size = (3,3)\n",
    "# 每次进行迭代的数据量\n",
    "batch_size = 1"
   ]
  },
  {
   "cell_type": "code",
   "execution_count": 29,
   "id": "5c64e710",
   "metadata": {},
   "outputs": [],
   "source": [
    "input_data = torch.rand(batch_size,in_channel,weight,height)"
   ]
  },
  {
   "cell_type": "code",
   "execution_count": 30,
   "id": "62c82f4c",
   "metadata": {},
   "outputs": [],
   "source": [
    "conv_layer = torch.nn.Conv2d(in_channel,out_channnel,kernel_size=kernel_size)\n",
    "output_data = conv_layer(input_data)    "
   ]
  },
  {
   "cell_type": "code",
   "execution_count": 31,
   "id": "d3907a4f",
   "metadata": {},
   "outputs": [
    {
     "data": {
      "text/plain": [
       "torch.Size([1, 10, 98, 98])"
      ]
     },
     "execution_count": 31,
     "metadata": {},
     "output_type": "execute_result"
    }
   ],
   "source": [
    "output_data.shape"
   ]
  },
  {
   "cell_type": "code",
   "execution_count": 32,
   "id": "f559d722",
   "metadata": {},
   "outputs": [
    {
     "data": {
      "text/plain": [
       "torch.Size([1, 6, 100, 100])"
      ]
     },
     "execution_count": 32,
     "metadata": {},
     "output_type": "execute_result"
    }
   ],
   "source": [
    "input_data.shape"
   ]
  },
  {
   "cell_type": "code",
   "execution_count": 37,
   "id": "9749af53",
   "metadata": {},
   "outputs": [
    {
     "data": {
      "text/plain": [
       "torch.Size([10, 6, 3, 3])"
      ]
     },
     "execution_count": 37,
     "metadata": {},
     "output_type": "execute_result"
    }
   ],
   "source": [
    "conv_layer.weight.shape"
   ]
  },
  {
   "cell_type": "code",
   "execution_count": 39,
   "id": "5a3e0d17",
   "metadata": {},
   "outputs": [
    {
     "data": {
      "text/plain": [
       "tensor([[ 0.1173, -0.0033,  0.0389],\n",
       "        [ 0.1299,  0.0940, -0.0420],\n",
       "        [-0.1053, -0.0599,  0.0169]])"
      ]
     },
     "execution_count": 39,
     "metadata": {},
     "output_type": "execute_result"
    }
   ],
   "source": [
    "# 卷积层的权重\n",
    "conv_layer.weight.data[0][0]"
   ]
  },
  {
   "cell_type": "code",
   "execution_count": 34,
   "id": "7380115b",
   "metadata": {},
   "outputs": [],
   "source": [
    "# A - B + 1 (A是input的长或宽，B是内核的长或宽)"
   ]
  }
 ],
 "metadata": {
  "kernelspec": {
   "display_name": "Python 3 (ipykernel)",
   "language": "python",
   "name": "python3"
  },
  "language_info": {
   "codemirror_mode": {
    "name": "ipython",
    "version": 3
   },
   "file_extension": ".py",
   "mimetype": "text/x-python",
   "name": "python",
   "nbconvert_exporter": "python",
   "pygments_lexer": "ipython3",
   "version": "3.8.3"
  }
 },
 "nbformat": 4,
 "nbformat_minor": 5
}
